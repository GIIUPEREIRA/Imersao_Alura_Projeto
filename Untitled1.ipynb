{
  "nbformat": 4,
  "nbformat_minor": 0,
  "metadata": {
    "colab": {
      "provenance": [],
      "authorship_tag": "ABX9TyMO2Ns74fpZL/BkZlQgch0J",
      "include_colab_link": true
    },
    "kernelspec": {
      "name": "python3",
      "display_name": "Python 3"
    },
    "language_info": {
      "name": "python"
    }
  },
  "cells": [
    {
      "cell_type": "markdown",
      "metadata": {
        "id": "view-in-github",
        "colab_type": "text"
      },
      "source": [
        "<a href=\"https://colab.research.google.com/github/GIIUPEREIRA/Imersao_Alura_Projeto/blob/main/Untitled1.ipynb\" target=\"_parent\"><img src=\"https://colab.research.google.com/assets/colab-badge.svg\" alt=\"Open In Colab\"/></a>"
      ]
    },
    {
      "cell_type": "code",
      "source": [
        "# Instalação das bibliotecas necessárias\n",
        "!pip install -q -U googlemaps google-generativeai\n",
        "\n",
        "# Importação das bibliotecas\n",
        "import googlemaps\n",
        "from IPython.display import display, HTML\n",
        "import datetime\n",
        "import google.generativeai as genai\n",
        "\n",
        "from IPython.display import Markdown\n",
        "\n",
        "# Configuração da API KEY do Google\n",
        "from google.colab import usedata\n",
        "api_key = userdata.get(\"SECRET_KEY\")\n",
        "gmaps = googlemaps.Client(key=GOOGLE_API_KEY)\n",
        "genai.configure(api_key=api_key)\n",
        "\n",
        "# Importação das bibliotecas necessárias\n",
        "from IPython.display import display, HTML\n",
        "import datetime\n",
        "\n",
        "def printmd(string):\n",
        "    display(Markdown(string))\n",
        "\n",
        "def validar_cpf(cpf):\n",
        "    return cpf.isdigit() and len(cpf) == 11\n",
        "\n",
        "def validar_data_agendamento(data):\n",
        "    try:\n",
        "        dia, mes, ano = map(int, data.split('/'))\n",
        "        data_agendamento = datetime.date(ano, mes, dia)\n",
        "        ano_atual = datetime.datetime.now().year\n",
        "        return data_agendamento.year == ano_atual\n",
        "    except ValueError:\n",
        "        return False\n",
        "\n",
        "def perguntar_a_ia_gemini():\n",
        "    printmd(\"\\n**Pergunte o que quiser à IA Gemini:**\")\n",
        "    pergunta = input(\"Digite sua pergunta: \")\n",
        "    response = genai.GenerativeModel(model_name='gemini-1.0-pro').generate_content(pergunta)\n",
        "    printmd(f\"**Resposta da IA Gemini:** {response.text}\")\n",
        "\n",
        "def chatbot():\n",
        "    while True:\n",
        "        printmd(\"\\n**Olá, eu sou o Assistente de Enchentes. Como posso ajudar?**\")\n",
        "        printmd(\"\"\"\n",
        "- **1. Dicas de preparação para enchentes** 🛠️\n",
        "- **2. O que fazer durante uma enchente** 🌧️\n",
        "- **3. Como se recuperar após uma enchente** 💪\n",
        "- **4. Encontrar abrigos próximos** 🏠\n",
        "- **5. Entre em contato com Departamento Central de Atendimento ao Cidadão** 📞\n",
        "- **6. Pergunte o que quiser à IA Gemini** 🤖\n",
        "- **7. Fale com um psicólogo gratuitamente em tempo real** 🧑‍⚕️\n",
        "        \"\"\")\n",
        "        escolha = input(\"Escolha uma opção (1-7): \")\n",
        "\n",
        "        if escolha == '1':\n",
        "            dicas_preparacao()\n",
        "        elif escolha == '2':\n",
        "            o_que_fazer()\n",
        "        elif escolha == '3':\n",
        "            como_se_recuperar()\n",
        "        elif escolha == '4':\n",
        "            localizacao = input(\"\\nInforme sua localização para encontrar abrigos próximos: \")\n",
        "            encontrar_abrigos(localizacao)\n",
        "        elif escolha == '5':\n",
        "            contato_com_departamento()\n",
        "        elif escolha == '6':\n",
        "            perguntar_a_ia_gemini()\n",
        "        elif escolha == '7':\n",
        "            # Adicionando a lógica para fornecer um site para conversar com um psicólogo\n",
        "            printmd(\"**Conectando você com um psicólogo...**\")\n",
        "            printmd(\"Para conversar gratuitamente com um psicólogo em tempo real, visite: [TalkSpace](https://www.talkspace.com)\")\n",
        "        else:\n",
        "            printmd(\"**Opção inválida. Por favor, escolha entre 1 e 7.**\")\n",
        "\n",
        "        if not voltar_ou_sair():\n",
        "            break\n",
        "\n",
        "def dicas_preparacao():\n",
        "    print(\"\\n[Dicas de Preparação para Enchentes]\")\n",
        "    print(\"1. Mantenha um kit de emergência pronto: água, alimentos não perecíveis, lanterna, rádio a pilhas, primeiros socorros.\")\n",
        "    print(\"2. Conheça as rotas de fuga da sua área e tenha um plano de evacuação familiar.\")\n",
        "    print(\"3. Eleve os móveis e eletrodomésticos importantes em sua casa, se possível.\")\n",
        "    print(\"4. Verifique se o sistema de drenagem da sua casa está limpo e funcionando.\")\n",
        "    print(\"5. Acompanhe as previsões do tempo e alertas da defesa civil.\")\n",
        "\n",
        "def o_que_fazer():\n",
        "    print(\"\\n[O que fazer durante uma enchente]\")\n",
        "    print(\"1. Evite áreas alagadas e não tente atravessar correntezas.\")\n",
        "    print(\"2. Desligue a energia elétrica da sua casa para evitar choques elétricos.\")\n",
        "    print(\"3. Use água potável para beber e preparar alimentos.\")\n",
        "    print(\"4. Mantenha-se informado através do rádio a pilhas ou do seu celular.\")\n",
        "    print(\"5. Se precisar de resgate, entre em contato por telefone ou WhatsApp pelo número XX 9999-9999.\")\n",
        "\n",
        "def como_se_recuperar():\n",
        "    print(\"\\n[Como se recuperar após uma enchente]\")\n",
        "    print(\"1. Não retorne para casa até que as autoridades digam que é seguro.\")\n",
        "    print(\"2. Fotografe os danos para possíveis reivindicações de seguro.\")\n",
        "    print(\"3. Use luvas e botas durante a limpeza para evitar contaminação.\")\n",
        "    print(\"4. Verifique se a água é segura antes de beber.\")\n",
        "    print(\"5. Procure apoio psicológico para lidar com o trauma pós-enchente.\")\n",
        "\n",
        "def encontrar_abrigos(localizacao):\n",
        "    print(\"\\n[Abrigos Próximos]\")\n",
        "    print(\"Abrigo 1: Centro Comunitário da Esperança, Endereço: Rua da Solidariedade, 100, a 5km\")\n",
        "    print(\"Telefone: 9999-9999, WhatsApp: XX 99999-9999\")\n",
        "    print(\"Abrigo 2: Escola Municipal de Ensino Fundamental Estrela Guia, Endereço: Av. dos Pioneiros, 250, a 8km\")\n",
        "    print(\"Telefone: 8888-8888, WhatsApp: XX 88888-8888\")\n",
        "    print(\"Abrigo 3: Ginásio Poliesportivo do Bairro Novo Amanhecer, Endereço: Rua do Progresso, 500, a 10km\")\n",
        "    print(\"Telefone: 7777-7777, WhatsApp: XX 77777-7777\")\n",
        "\n",
        "def contato_com_departamento():\n",
        "    printmd(\"\\n**Departamento Central de Atendimento ao Cidadão** 📞\")\n",
        "    printmd(\"\"\"\n",
        "- **5.1 Atendimento telefônico**\n",
        "- **5.2 Marque atendimento presencial**\n",
        "    \"\"\")\n",
        "    escolha = input(\"Escolha uma opção: \")\n",
        "\n",
        "    if escolha == '5.1':\n",
        "        printmd(\"\\n**Telefone: 9999-9999, WhatsApp: XX 99999-9999**\")\n",
        "    elif escolha == '5.2':\n",
        "        nome = input(\"Informe seu nome completo: \")\n",
        "        cpf = input(\"Informe seu CPF: \")\n",
        "        while not validar_cpf(cpf):\n",
        "            print(\"CPF inválido. Por favor, insira um CPF com 11 dígitos numéricos.\")\n",
        "            cpf = input(\"Informe seu CPF: \")\n",
        "        data_de_agendamento = input(\"Informe a data de agendamento (dd/mm/aaaa): \")\n",
        "        while not validar_data_agendamento(data_de_agendamento):\n",
        "            print(\"Data inválida. Por favor, insira uma data no ano vigente de 2024.\")\n",
        "            data_de_agendamento = input(\"Informe a data de agendamento (dd/mm/aaaa): \")\n",
        "        local = input(\"Informe o local que deseja para atendimento: \")\n",
        "        printmd(f\"\\n**Está agendado! Nos encontramos logo!**\\nNome: {nome}, CPF: {cpf}, Data de Agendamento: {data_de_agendamento}, Local: {local}\")\n",
        "    else:\n",
        "        printmd(\"**Opção inválida. Por favor, escolha entre as opções de atendimento.**\")\n",
        "\n",
        "def voltar_ou_sair():\n",
        "    escolha = input(\"\\nDeseja voltar ao menu inicial ou sair? (voltar/sair): \")\n",
        "    if escolha.lower() == 'voltar':\n",
        "        return True\n",
        "    elif escolha.lower() == 'sair':\n",
        "        avaliar_atendimento()\n",
        "        return False\n",
        "    else:\n",
        "        printmd(\"**Opção inválida. Por favor, escolha 'voltar' ou 'sair'.**\")\n",
        "        return voltar_ou_sair()\n",
        "\n",
        "def avaliar_atendimento():\n",
        "    printmd(\"\\n**Avalie nosso atendimento, afinal, seu bem-estar vem em primeiro lugar.** ✨\")\n",
        "    nota = input(\"Avalie de 1 a 5, sendo 1 Horrível e 5 Exemplar: \")\n",
        "    printmd(\"**Obrigado! Fique bem e se precisar entre em contato.**\")\n",
        "\n",
        "# Execução do chatbot\n",
        "chatbot()"
      ],
      "metadata": {
        "colab": {
          "base_uri": "https://localhost:8080/",
          "height": 1000
        },
        "id": "y2h2AvLAsyMQ",
        "outputId": "151f6374-fd02-4654-a054-c0e8a2eff695"
      },
      "execution_count": 9,
      "outputs": [
        {
          "output_type": "display_data",
          "data": {
            "text/plain": [
              "<IPython.core.display.Markdown object>"
            ],
            "text/markdown": "\n**Olá, eu sou o Assistente de Enchentes. Como posso ajudar?**"
          },
          "metadata": {}
        },
        {
          "output_type": "display_data",
          "data": {
            "text/plain": [
              "<IPython.core.display.Markdown object>"
            ],
            "text/markdown": "\n- **1. Dicas de preparação para enchentes** 🛠️\n- **2. O que fazer durante uma enchente** 🌧️\n- **3. Como se recuperar após uma enchente** 💪\n- **4. Encontrar abrigos próximos** 🏠\n- **5. Entre em contato com Departamento Central de Atendimento ao Cidadão** 📞\n- **6. Pergunte o que quiser à IA Gemini** 🤖\n- **7. Fale com um psicólogo gratuitamente em tempo real** 🧑‍⚕️\n        "
          },
          "metadata": {}
        },
        {
          "name": "stdout",
          "output_type": "stream",
          "text": [
            "Escolha uma opção (1-7): 1\n",
            "\n",
            "[Dicas de Preparação para Enchentes]\n",
            "1. Mantenha um kit de emergência pronto: água, alimentos não perecíveis, lanterna, rádio a pilhas, primeiros socorros.\n",
            "2. Conheça as rotas de fuga da sua área e tenha um plano de evacuação familiar.\n",
            "3. Eleve os móveis e eletrodomésticos importantes em sua casa, se possível.\n",
            "4. Verifique se o sistema de drenagem da sua casa está limpo e funcionando.\n",
            "5. Acompanhe as previsões do tempo e alertas da defesa civil.\n",
            "\n",
            "Deseja voltar ao menu inicial ou sair? (voltar/sair): voltar\n"
          ]
        },
        {
          "output_type": "display_data",
          "data": {
            "text/plain": [
              "<IPython.core.display.Markdown object>"
            ],
            "text/markdown": "\n**Olá, eu sou o Assistente de Enchentes. Como posso ajudar?**"
          },
          "metadata": {}
        },
        {
          "output_type": "display_data",
          "data": {
            "text/plain": [
              "<IPython.core.display.Markdown object>"
            ],
            "text/markdown": "\n- **1. Dicas de preparação para enchentes** 🛠️\n- **2. O que fazer durante uma enchente** 🌧️\n- **3. Como se recuperar após uma enchente** 💪\n- **4. Encontrar abrigos próximos** 🏠\n- **5. Entre em contato com Departamento Central de Atendimento ao Cidadão** 📞\n- **6. Pergunte o que quiser à IA Gemini** 🤖\n- **7. Fale com um psicólogo gratuitamente em tempo real** 🧑‍⚕️\n        "
          },
          "metadata": {}
        },
        {
          "name": "stdout",
          "output_type": "stream",
          "text": [
            "Escolha uma opção (1-7): 2\n",
            "\n",
            "[O que fazer durante uma enchente]\n",
            "1. Evite áreas alagadas e não tente atravessar correntezas.\n",
            "2. Desligue a energia elétrica da sua casa para evitar choques elétricos.\n",
            "3. Use água potável para beber e preparar alimentos.\n",
            "4. Mantenha-se informado através do rádio a pilhas ou do seu celular.\n",
            "5. Se precisar de resgate, entre em contato por telefone ou WhatsApp pelo número XX 9999-9999.\n",
            "\n",
            "Deseja voltar ao menu inicial ou sair? (voltar/sair): voltar\n"
          ]
        },
        {
          "output_type": "display_data",
          "data": {
            "text/plain": [
              "<IPython.core.display.Markdown object>"
            ],
            "text/markdown": "\n**Olá, eu sou o Assistente de Enchentes. Como posso ajudar?**"
          },
          "metadata": {}
        },
        {
          "output_type": "display_data",
          "data": {
            "text/plain": [
              "<IPython.core.display.Markdown object>"
            ],
            "text/markdown": "\n- **1. Dicas de preparação para enchentes** 🛠️\n- **2. O que fazer durante uma enchente** 🌧️\n- **3. Como se recuperar após uma enchente** 💪\n- **4. Encontrar abrigos próximos** 🏠\n- **5. Entre em contato com Departamento Central de Atendimento ao Cidadão** 📞\n- **6. Pergunte o que quiser à IA Gemini** 🤖\n- **7. Fale com um psicólogo gratuitamente em tempo real** 🧑‍⚕️\n        "
          },
          "metadata": {}
        },
        {
          "name": "stdout",
          "output_type": "stream",
          "text": [
            "Escolha uma opção (1-7): 3\n",
            "\n",
            "[Como se recuperar após uma enchente]\n",
            "1. Não retorne para casa até que as autoridades digam que é seguro.\n",
            "2. Fotografe os danos para possíveis reivindicações de seguro.\n",
            "3. Use luvas e botas durante a limpeza para evitar contaminação.\n",
            "4. Verifique se a água é segura antes de beber.\n",
            "5. Procure apoio psicológico para lidar com o trauma pós-enchente.\n",
            "\n",
            "Deseja voltar ao menu inicial ou sair? (voltar/sair): voltar\n"
          ]
        },
        {
          "output_type": "display_data",
          "data": {
            "text/plain": [
              "<IPython.core.display.Markdown object>"
            ],
            "text/markdown": "\n**Olá, eu sou o Assistente de Enchentes. Como posso ajudar?**"
          },
          "metadata": {}
        },
        {
          "output_type": "display_data",
          "data": {
            "text/plain": [
              "<IPython.core.display.Markdown object>"
            ],
            "text/markdown": "\n- **1. Dicas de preparação para enchentes** 🛠️\n- **2. O que fazer durante uma enchente** 🌧️\n- **3. Como se recuperar após uma enchente** 💪\n- **4. Encontrar abrigos próximos** 🏠\n- **5. Entre em contato com Departamento Central de Atendimento ao Cidadão** 📞\n- **6. Pergunte o que quiser à IA Gemini** 🤖\n- **7. Fale com um psicólogo gratuitamente em tempo real** 🧑‍⚕️\n        "
          },
          "metadata": {}
        },
        {
          "name": "stdout",
          "output_type": "stream",
          "text": [
            "Escolha uma opção (1-7): 4\n",
            "\n",
            "Informe sua localização para encontrar abrigos próximos: Canoas - Porto Alegre\n",
            "\n",
            "[Abrigos Próximos]\n",
            "Abrigo 1: Centro Comunitário da Esperança, Endereço: Rua da Solidariedade, 100, a 5km\n",
            "Telefone: 9999-9999, WhatsApp: XX 99999-9999\n",
            "Abrigo 2: Escola Municipal de Ensino Fundamental Estrela Guia, Endereço: Av. dos Pioneiros, 250, a 8km\n",
            "Telefone: 8888-8888, WhatsApp: XX 88888-8888\n",
            "Abrigo 3: Ginásio Poliesportivo do Bairro Novo Amanhecer, Endereço: Rua do Progresso, 500, a 10km\n",
            "Telefone: 7777-7777, WhatsApp: XX 77777-7777\n",
            "\n",
            "Deseja voltar ao menu inicial ou sair? (voltar/sair): voltar\n"
          ]
        },
        {
          "output_type": "display_data",
          "data": {
            "text/plain": [
              "<IPython.core.display.Markdown object>"
            ],
            "text/markdown": "\n**Olá, eu sou o Assistente de Enchentes. Como posso ajudar?**"
          },
          "metadata": {}
        },
        {
          "output_type": "display_data",
          "data": {
            "text/plain": [
              "<IPython.core.display.Markdown object>"
            ],
            "text/markdown": "\n- **1. Dicas de preparação para enchentes** 🛠️\n- **2. O que fazer durante uma enchente** 🌧️\n- **3. Como se recuperar após uma enchente** 💪\n- **4. Encontrar abrigos próximos** 🏠\n- **5. Entre em contato com Departamento Central de Atendimento ao Cidadão** 📞\n- **6. Pergunte o que quiser à IA Gemini** 🤖\n- **7. Fale com um psicólogo gratuitamente em tempo real** 🧑‍⚕️\n        "
          },
          "metadata": {}
        },
        {
          "name": "stdout",
          "output_type": "stream",
          "text": [
            "Escolha uma opção (1-7): 5\n"
          ]
        },
        {
          "output_type": "display_data",
          "data": {
            "text/plain": [
              "<IPython.core.display.Markdown object>"
            ],
            "text/markdown": "\n**Departamento Central de Atendimento ao Cidadão** 📞"
          },
          "metadata": {}
        },
        {
          "output_type": "display_data",
          "data": {
            "text/plain": [
              "<IPython.core.display.Markdown object>"
            ],
            "text/markdown": "\n- **5.1 Atendimento telefônico**\n- **5.2 Marque atendimento presencial**\n    "
          },
          "metadata": {}
        },
        {
          "name": "stdout",
          "output_type": "stream",
          "text": [
            "Escolha uma opção: 5.1\n"
          ]
        },
        {
          "output_type": "display_data",
          "data": {
            "text/plain": [
              "<IPython.core.display.Markdown object>"
            ],
            "text/markdown": "\n**Telefone: 9999-9999, WhatsApp: XX 99999-9999**"
          },
          "metadata": {}
        },
        {
          "name": "stdout",
          "output_type": "stream",
          "text": [
            "\n",
            "Deseja voltar ao menu inicial ou sair? (voltar/sair): voltar\n"
          ]
        },
        {
          "output_type": "display_data",
          "data": {
            "text/plain": [
              "<IPython.core.display.Markdown object>"
            ],
            "text/markdown": "\n**Olá, eu sou o Assistente de Enchentes. Como posso ajudar?**"
          },
          "metadata": {}
        },
        {
          "output_type": "display_data",
          "data": {
            "text/plain": [
              "<IPython.core.display.Markdown object>"
            ],
            "text/markdown": "\n- **1. Dicas de preparação para enchentes** 🛠️\n- **2. O que fazer durante uma enchente** 🌧️\n- **3. Como se recuperar após uma enchente** 💪\n- **4. Encontrar abrigos próximos** 🏠\n- **5. Entre em contato com Departamento Central de Atendimento ao Cidadão** 📞\n- **6. Pergunte o que quiser à IA Gemini** 🤖\n- **7. Fale com um psicólogo gratuitamente em tempo real** 🧑‍⚕️\n        "
          },
          "metadata": {}
        },
        {
          "name": "stdout",
          "output_type": "stream",
          "text": [
            "Escolha uma opção (1-7): 5\n"
          ]
        },
        {
          "output_type": "display_data",
          "data": {
            "text/plain": [
              "<IPython.core.display.Markdown object>"
            ],
            "text/markdown": "\n**Departamento Central de Atendimento ao Cidadão** 📞"
          },
          "metadata": {}
        },
        {
          "output_type": "display_data",
          "data": {
            "text/plain": [
              "<IPython.core.display.Markdown object>"
            ],
            "text/markdown": "\n- **5.1 Atendimento telefônico**\n- **5.2 Marque atendimento presencial**\n    "
          },
          "metadata": {}
        },
        {
          "name": "stdout",
          "output_type": "stream",
          "text": [
            "Escolha uma opção: 5.2\n",
            "Informe seu nome completo: Anna Giulia Pereira\n",
            "Informe seu CPF: 12345678909\n",
            "Informe a data de agendamento (dd/mm/aaaa): 10/05/2024\n",
            "Informe o local que deseja para atendimento: Canos - Porto Alegre\n"
          ]
        },
        {
          "output_type": "display_data",
          "data": {
            "text/plain": [
              "<IPython.core.display.Markdown object>"
            ],
            "text/markdown": "\n**Está agendado! Nos encontramos logo!**\nNome: Anna Giulia Pereira, CPF: 12345678909, Data de Agendamento: 10/05/2024, Local: Canos - Porto Alegre"
          },
          "metadata": {}
        },
        {
          "name": "stdout",
          "output_type": "stream",
          "text": [
            "\n",
            "Deseja voltar ao menu inicial ou sair? (voltar/sair): voltar\n"
          ]
        },
        {
          "output_type": "display_data",
          "data": {
            "text/plain": [
              "<IPython.core.display.Markdown object>"
            ],
            "text/markdown": "\n**Olá, eu sou o Assistente de Enchentes. Como posso ajudar?**"
          },
          "metadata": {}
        },
        {
          "output_type": "display_data",
          "data": {
            "text/plain": [
              "<IPython.core.display.Markdown object>"
            ],
            "text/markdown": "\n- **1. Dicas de preparação para enchentes** 🛠️\n- **2. O que fazer durante uma enchente** 🌧️\n- **3. Como se recuperar após uma enchente** 💪\n- **4. Encontrar abrigos próximos** 🏠\n- **5. Entre em contato com Departamento Central de Atendimento ao Cidadão** 📞\n- **6. Pergunte o que quiser à IA Gemini** 🤖\n- **7. Fale com um psicólogo gratuitamente em tempo real** 🧑‍⚕️\n        "
          },
          "metadata": {}
        },
        {
          "name": "stdout",
          "output_type": "stream",
          "text": [
            "Escolha uma opção (1-7): 6\n"
          ]
        },
        {
          "output_type": "display_data",
          "data": {
            "text/plain": [
              "<IPython.core.display.Markdown object>"
            ],
            "text/markdown": "\n**Pergunte o que quiser à IA Gemini:**"
          },
          "metadata": {}
        },
        {
          "name": "stdout",
          "output_type": "stream",
          "text": [
            "Digite sua pergunta: Me dÊ 5 dicas para me proteger de enchentes?\n"
          ]
        },
        {
          "output_type": "display_data",
          "data": {
            "text/plain": [
              "<IPython.core.display.Markdown object>"
            ],
            "text/markdown": "**Resposta da IA Gemini:** **5 Dicas para se Proteger de Enchentes:**\n\n1. **Monitore alertas e avisos:** Fique atento às previsões meteorológicas e alertas de enchentes emitidos por autoridades locais. Verifique regularmente fontes oficiais e meios de comunicação confiáveis.\n\n2. **Identifique áreas de risco:** Determine as áreas baixas ou próximas a rios, córregos e canais que são propensas a inundações. Evite construir ou permanecer nessas áreas durante períodos de chuva intensa.\n\n3. **Prepare um plano de fuga:** Estabeleça rotas de evacuação alternativas e identifique locais seguros para onde ir em caso de enchente. Armazene suprimentos essenciais, como água, alimentos não perecíveis e medicamentos, em um local facilmente acessível.\n\n4. **Proteja sua propriedade:** Eleve móveis e pertences valiosos para níveis mais altos. Use sacos de areia ou outras barreiras para impedir que a água entre em sua casa. Instale bombas de drenagem para remover rapidamente qualquer água que possa se acumular.\n\n5. **Fique informado:** Mantenha-se atualizado sobre as condições das enchentes por meio de rádio, televisão ou Internet. Siga as instruções das autoridades locais e evacue imediatamente se solicitado. Nunca dirija por águas de enchente, pois mesmo águas rasas podem ser perigosas."
          },
          "metadata": {}
        },
        {
          "name": "stdout",
          "output_type": "stream",
          "text": [
            "\n",
            "Deseja voltar ao menu inicial ou sair? (voltar/sair): voltar\n"
          ]
        },
        {
          "output_type": "display_data",
          "data": {
            "text/plain": [
              "<IPython.core.display.Markdown object>"
            ],
            "text/markdown": "\n**Olá, eu sou o Assistente de Enchentes. Como posso ajudar?**"
          },
          "metadata": {}
        },
        {
          "output_type": "display_data",
          "data": {
            "text/plain": [
              "<IPython.core.display.Markdown object>"
            ],
            "text/markdown": "\n- **1. Dicas de preparação para enchentes** 🛠️\n- **2. O que fazer durante uma enchente** 🌧️\n- **3. Como se recuperar após uma enchente** 💪\n- **4. Encontrar abrigos próximos** 🏠\n- **5. Entre em contato com Departamento Central de Atendimento ao Cidadão** 📞\n- **6. Pergunte o que quiser à IA Gemini** 🤖\n- **7. Fale com um psicólogo gratuitamente em tempo real** 🧑‍⚕️\n        "
          },
          "metadata": {}
        },
        {
          "name": "stdout",
          "output_type": "stream",
          "text": [
            "Escolha uma opção (1-7): 7\n"
          ]
        },
        {
          "output_type": "display_data",
          "data": {
            "text/plain": [
              "<IPython.core.display.Markdown object>"
            ],
            "text/markdown": "**Conectando você com um psicólogo...**"
          },
          "metadata": {}
        },
        {
          "output_type": "display_data",
          "data": {
            "text/plain": [
              "<IPython.core.display.Markdown object>"
            ],
            "text/markdown": "Para conversar gratuitamente com um psicólogo em tempo real, visite: [TalkSpace](https://www.talkspace.com)"
          },
          "metadata": {}
        },
        {
          "name": "stdout",
          "output_type": "stream",
          "text": [
            "\n",
            "Deseja voltar ao menu inicial ou sair? (voltar/sair): sair\n"
          ]
        },
        {
          "output_type": "display_data",
          "data": {
            "text/plain": [
              "<IPython.core.display.Markdown object>"
            ],
            "text/markdown": "\n**Avalie nosso atendimento, afinal, seu bem-estar vem em primeiro lugar.** ✨"
          },
          "metadata": {}
        },
        {
          "name": "stdout",
          "output_type": "stream",
          "text": [
            "Avalie de 1 a 5, sendo 1 Horrível e 5 Exemplar: 5\n"
          ]
        },
        {
          "output_type": "display_data",
          "data": {
            "text/plain": [
              "<IPython.core.display.Markdown object>"
            ],
            "text/markdown": "**Obrigado! Fique bem e se precisar entre em contato.**"
          },
          "metadata": {}
        }
      ]
    }
  ]
}